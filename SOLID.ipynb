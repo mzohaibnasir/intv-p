{
  "nbformat": 4,
  "nbformat_minor": 0,
  "metadata": {
    "colab": {
      "provenance": [],
      "toc_visible": true,
      "authorship_tag": "ABX9TyOjZWHdYEjPauxLNbKR8h/R",
      "include_colab_link": true
    },
    "kernelspec": {
      "name": "python3",
      "display_name": "Python 3"
    },
    "language_info": {
      "name": "python"
    }
  },
  "cells": [
    {
      "cell_type": "markdown",
      "metadata": {
        "id": "view-in-github",
        "colab_type": "text"
      },
      "source": [
        "<a href=\"https://colab.research.google.com/github/mzohaibnasir/intv-p/blob/main/SOLID.ipynb\" target=\"_parent\"><img src=\"https://colab.research.google.com/assets/colab-badge.svg\" alt=\"Open In Colab\"/></a>"
      ]
    },
    {
      "cell_type": "code",
      "execution_count": 2,
      "metadata": {
        "colab": {
          "base_uri": "https://localhost:8080/",
          "height": 35
        },
        "id": "fHzL79renRfN",
        "outputId": "f45ee30d-106b-462a-ac62-19e687b88d8f"
      },
      "outputs": [
        {
          "output_type": "execute_result",
          "data": {
            "text/plain": [
              "'https://youtu.be/yxf2spbpTSw'"
            ],
            "application/vnd.google.colaboratory.intrinsic+json": {
              "type": "string"
            }
          },
          "metadata": {},
          "execution_count": 2
        }
      ],
      "source": [
        "\"https://youtu.be/yxf2spbpTSw\""
      ]
    },
    {
      "cell_type": "markdown",
      "source": [
        "## The SOLID Principles\n",
        "   are five principles of Object-Oriented class design. They are a set of rules and best practices to follow while designing a class structure.\n",
        "\n",
        "\n",
        "   **\"To create understandable, readable, and testable code that many developers can collaboratively work on.\"**"
      ],
      "metadata": {
        "id": "G9sGWN6Vngyc"
      }
    },
    {
      "cell_type": "code",
      "source": [],
      "metadata": {
        "id": "Ap_-pUcqnizi"
      },
      "execution_count": null,
      "outputs": []
    },
    {
      "cell_type": "markdown",
      "source": [
        "Let's look at each principle one by one. Following the SOLID acronym, they are:\n",
        "\n",
        "1. The Single Responsibility Principle\n",
        "2. The Open-Closed Principle\n",
        "3. The Liskov Substitution Principle\n",
        "4. The Interface Segregation Principle\n",
        "5. The Dependency Inversion Principle"
      ],
      "metadata": {
        "id": "7KMKlWwgn2Nt"
      }
    },
    {
      "cell_type": "code",
      "source": [],
      "metadata": {
        "id": "OZfGVQQNn6Nx"
      },
      "execution_count": null,
      "outputs": []
    },
    {
      "cell_type": "markdown",
      "source": [
        "## 1. The Single Responsibility Principle\n",
        "The Single Responsibility Principle states that a class should do one thing and therefore it should have only a single reason to change.\n",
        "\n",
        "To state this principle more technically: Only one potential change (database logic, logging logic, and so on.) in the software’s specification should be able to affect the specification of the class."
      ],
      "metadata": {
        "id": "WaE1NfDKn6pq"
      }
    },
    {
      "cell_type": "code",
      "source": [],
      "metadata": {
        "id": "A5V9J5W3n_z9"
      },
      "execution_count": null,
      "outputs": []
    },
    {
      "cell_type": "markdown",
      "source": [
        "## 2. Open-Closed Principle\n",
        "\n",
        "he Open-Closed Principle requires that classes should be open for extension and closed to modification.\n",
        "\n",
        "Modification means changing the code of an existing class, and extension means adding new functionality.\n",
        "\n",
        "So what this principle wants to say is: We should be able to add new functionality without touching the existing code for the class. This is because whenever we modify the existing code, we are taking the risk of creating potential bugs. So we should avoid touching the tested and reliable (mostly) production code if possible.\n",
        "\n",
        "But how are we going to add new functionality without touching the class, you may ask. It is usually done with the help of interfaces and abstract classes.\n"
      ],
      "metadata": {
        "id": "7siEVOEloLp9"
      }
    },
    {
      "cell_type": "code",
      "source": [
        "\n"
      ],
      "metadata": {
        "id": "OP9mxVnXoUqX"
      },
      "execution_count": null,
      "outputs": []
    },
    {
      "cell_type": "code",
      "source": [],
      "metadata": {
        "id": "FMQ5Z1N-oX6T"
      },
      "execution_count": null,
      "outputs": []
    },
    {
      "cell_type": "markdown",
      "source": [
        "## 3. Liskov Substitution Principle\n",
        "\n",
        "The Liskov Substitution Principle states that subclasses should be substitutable for their base classes.\n",
        "\n",
        "This means that, given that class B is a subclass of class A, we should be able to pass an object of class B to any method that expects an object of class A and the method should not give any weird output in that case.\n",
        "\n",
        "This is the expected behavior, because when we use inheritance we assume that the child class inherits everything that the superclass has. The child class extends the behavior but never narrows it down.\n",
        "\n",
        "Therefore, when a class does not obey this principle, it leads to some nasty bugs that are hard to detect."
      ],
      "metadata": {
        "id": "vRW5x3AZoZL3"
      }
    },
    {
      "cell_type": "code",
      "source": [],
      "metadata": {
        "id": "GWqfQsJRon1M"
      },
      "execution_count": null,
      "outputs": []
    },
    {
      "cell_type": "markdown",
      "source": [
        "## 4. Interface Segregation Principle\n",
        "Segregation means keeping things separated, and the Interface Segregation Principle is about separating the interfaces.\n",
        "\n",
        "\n",
        "The principle states that many client-specific interfaces are better than one\n",
        "fat general-purpose interface. Clients should not be forced to implement a function they do no need."
      ],
      "metadata": {
        "id": "SE4IHkqIoZO-"
      }
    },
    {
      "cell_type": "code",
      "source": [],
      "metadata": {
        "id": "GhW5AUBquAzt"
      },
      "execution_count": null,
      "outputs": []
    },
    {
      "cell_type": "markdown",
      "source": [
        "## 4. Dependency Inversion Principle\n",
        "The Dependency Inversion principle states that our classes should depend upon interfaces or abstract classes instead of concrete classes and functions."
      ],
      "metadata": {
        "id": "vA6EHWRnoZRz"
      }
    },
    {
      "cell_type": "code",
      "source": [],
      "metadata": {
        "id": "Ou1UoFmM10Do"
      },
      "execution_count": null,
      "outputs": []
    }
  ]
}