{
 "cells": [
  {
   "cell_type": "code",
   "execution_count": 9,
   "metadata": {},
   "outputs": [
    {
     "name": "stdout",
     "output_type": "stream",
     "text": [
      "s=[0, 1, 0, 255, 300, 1, 0, 0, 1]\n",
      "len(s)=9\n",
      "s=[0, 1, 0, 255, 300, 1, 0, 0, 1]\n",
      "s=[0, 1, 0, 255, 300, 1, 0, 0, 1]\n",
      "s=[0, 0, 0, 255, 300, 1, 0, 1, 1]\n",
      "s=[0, 0, 0, 255, 300, 1, 0, 1, 1]\n",
      "s=[0, 0, 0, 255, 300, 1, 0, 1, 1]\n",
      "s=[0, 0, 0, 255, 300, 1, 0, 1, 1]\n",
      "s=[0, 0, 0, 255, 300, 1, 0, 1, 1]\n",
      "s=[0, 0, 0, 255, 300, 0, 1, 1, 1]\n",
      "s=[0, 0, 0, 0, 300, 255, 1, 1, 1]\n",
      "\n",
      "\n",
      "s=[0, 0, 0, 0, 300, 255, 1, 1, 1]\n"
     ]
    }
   ],
   "source": [
    "s = [0, 1, 0, 255, 300, 1, 0, 0, 1]\n",
    "print(f\"{s=}\")\n",
    "n = len(s)\n",
    "left = 0\n",
    "right = n - 1\n",
    "\n",
    "print(f\"{len(s)=}\")\n",
    "i = 0\n",
    "while i <= right:\n",
    "    if s[i] == 0:\n",
    "        s[left], s[i] = s[i], s[left]  # for 0s\n",
    "        left += 1\n",
    "        i += 1\n",
    "\n",
    "    elif s[i] == 1:\n",
    "        s[right], s[i] = s[i], s[right]  # for 1s\n",
    "        right -= 1\n",
    "    else:\n",
    "        i += 1\n",
    "\n",
    "    print(f\"{s=}\")\n",
    "print(f\"\\n\\n{s=}\")"
   ]
  },
  {
   "cell_type": "code",
   "execution_count": 23,
   "metadata": {},
   "outputs": [
    {
     "name": "stdout",
     "output_type": "stream",
     "text": [
      "[0, 0, 0, 0, 300, 255, 1, 1, 1]\n"
     ]
    }
   ],
   "source": [
    "s = [0, 1, 0, 255, 300, 1, 0, 0, 1]\n",
    "\n",
    "n = len(s)\n",
    "left = 0\n",
    "right = n - 1\n",
    "i = 0\n",
    "\n",
    "while i <= right:\n",
    "    if s[i] == 0:\n",
    "        s[left], s[i] = s[i], s[left]\n",
    "        left += 1\n",
    "        i += 1\n",
    "    elif s[i] == 1:\n",
    "        s[right], s[i] = s[i], s[right]\n",
    "        right -= 1\n",
    "    else:\n",
    "        i += 1\n",
    "\n",
    "print(s)"
   ]
  },
  {
   "cell_type": "code",
   "execution_count": 4,
   "metadata": {},
   "outputs": [
    {
     "name": "stdout",
     "output_type": "stream",
     "text": [
      "Original list: [0, 1, 0, 255, 300, 1, 0, 0, 1]\n",
      "Before swap:\ti=1\tright=8\t\ts[i]=1\ts[right]=1\n",
      "After swap: \ti=1\tright=8\t\ts[i]=1\ts[right]=1\n",
      "Updated list: [0, 1, 0, 255, 300, 1, 0, 0, 1]\n",
      "\n",
      "Before swap:\ti=1\tright=7\t\ts[i]=1\ts[right]=0\n",
      "After swap: \ti=1\tright=7\t\ts[i]=0\ts[right]=1\n",
      "Updated list: [0, 0, 0, 255, 300, 1, 0, 1, 1]\n",
      "\n",
      "Before swap:\ti=5\tright=6\t\ts[i]=1\ts[right]=0\n",
      "After swap: \ti=5\tright=6\t\ts[i]=0\ts[right]=1\n",
      "Updated list: [0, 0, 0, 255, 300, 0, 1, 1, 1]\n",
      "\n",
      "Final list: [0, 0, 0, 0, 300, 255, 1, 1, 1]\n"
     ]
    }
   ],
   "source": [
    "s = [0, 1, 0, 255, 300, 1, 0, 0, 1]\n",
    "print(f\"Original list: {s}\")\n",
    "n = len(s)\n",
    "left = 0\n",
    "right = n - 1\n",
    "i = 0\n",
    "\n",
    "while i <= right:\n",
    "    if s[i] == 0:\n",
    "        s[left], s[i] = s[i], s[left]  # Swap `0` to the left\n",
    "        left += 1\n",
    "        i += 1\n",
    "    elif s[i] == 1:\n",
    "        print(f\"Before swap:\\t{i=}\\t{right=}\\t\\t{s[i]=}\\t{s[right]=}\")\n",
    "        s[right], s[i] = s[i], s[right]  # Swap `1` to the right\n",
    "        print(f\"After swap: \\t{i=}\\t{right=}\\t\\t{s[i]=}\\t{s[right]=}\")\n",
    "        right -= 1\n",
    "        print(f\"Updated list: {s}\\n\")\n",
    "    else:\n",
    "        i += 1  # Move past non-0, non-1 elements\n",
    "\n",
    "print(f\"Final list: {s}\")"
   ]
  },
  {
   "cell_type": "code",
   "execution_count": null,
   "metadata": {},
   "outputs": [],
   "source": []
  }
 ],
 "metadata": {
  "kernelspec": {
   "display_name": "torch312",
   "language": "python",
   "name": "python3"
  },
  "language_info": {
   "codemirror_mode": {
    "name": "ipython",
    "version": 3
   },
   "file_extension": ".py",
   "mimetype": "text/x-python",
   "name": "python",
   "nbconvert_exporter": "python",
   "pygments_lexer": "ipython3",
   "version": "3.12.5"
  }
 },
 "nbformat": 4,
 "nbformat_minor": 2
}
